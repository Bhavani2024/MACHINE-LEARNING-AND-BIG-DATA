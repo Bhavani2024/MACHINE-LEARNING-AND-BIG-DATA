{
 "cells": [
  {
   "cell_type": "code",
   "execution_count": 1,
   "metadata": {
    "execution": {
     "iopub.execute_input": "2023-04-03T11:18:16.036644Z",
     "iopub.status.busy": "2023-04-03T11:18:16.035827Z",
     "iopub.status.idle": "2023-04-03T11:18:17.926299Z",
     "shell.execute_reply": "2023-04-03T11:18:17.924980Z",
     "shell.execute_reply.started": "2023-04-03T11:18:16.036503Z"
    }
   },
   "outputs": [],
   "source": [
    "# import libraries\n",
    "\n",
    "import pandas as pd\n",
    "import numpy as np\n",
    "from nltk import word_tokenize\n",
    "from nltk.stem import PorterStemmer, WordNetLemmatizer\n",
    "from sklearn.feature_extraction.text import CountVectorizer, ENGLISH_STOP_WORDS\n",
    "from sklearn.feature_extraction.text import TfidfVectorizer\n",
    "from sklearn.model_selection import train_test_split\n",
    "from sklearn.linear_model import LogisticRegression\n",
    "from sklearn.metrics import accuracy_score, confusion_matrix\n",
    "import matplotlib.pyplot as plt\n",
    "import seaborn as sns\n",
    "import joblib"
   ]
  },
  {
   "cell_type": "code",
   "execution_count": 2,
   "metadata": {
    "execution": {
     "iopub.execute_input": "2023-04-03T11:18:17.929046Z",
     "iopub.status.busy": "2023-04-03T11:18:17.928525Z",
     "iopub.status.idle": "2023-04-03T11:18:26.648229Z",
     "shell.execute_reply": "2023-04-03T11:18:26.646613Z",
     "shell.execute_reply.started": "2023-04-03T11:18:17.928995Z"
    }
   },
   "outputs": [
    {
     "data": {
      "text/html": [
       "<div>\n",
       "<style scoped>\n",
       "    .dataframe tbody tr th:only-of-type {\n",
       "        vertical-align: middle;\n",
       "    }\n",
       "\n",
       "    .dataframe tbody tr th {\n",
       "        vertical-align: top;\n",
       "    }\n",
       "\n",
       "    .dataframe thead th {\n",
       "        text-align: right;\n",
       "    }\n",
       "</style>\n",
       "<table border=\"1\" class=\"dataframe\">\n",
       "  <thead>\n",
       "    <tr style=\"text-align: right;\">\n",
       "      <th></th>\n",
       "      <th>Id</th>\n",
       "      <th>ProductId</th>\n",
       "      <th>UserId</th>\n",
       "      <th>ProfileName</th>\n",
       "      <th>HelpfulnessNumerator</th>\n",
       "      <th>HelpfulnessDenominator</th>\n",
       "      <th>Score</th>\n",
       "      <th>Time</th>\n",
       "      <th>Summary</th>\n",
       "      <th>Text</th>\n",
       "    </tr>\n",
       "  </thead>\n",
       "  <tbody>\n",
       "    <tr>\n",
       "      <th>0</th>\n",
       "      <td>1</td>\n",
       "      <td>B001E4KFG0</td>\n",
       "      <td>A3SGXH7AUHU8GW</td>\n",
       "      <td>delmartian</td>\n",
       "      <td>1</td>\n",
       "      <td>1</td>\n",
       "      <td>5</td>\n",
       "      <td>1303862400</td>\n",
       "      <td>Good Quality Dog Food</td>\n",
       "      <td>I have bought several of the Vitality canned d...</td>\n",
       "    </tr>\n",
       "    <tr>\n",
       "      <th>1</th>\n",
       "      <td>2</td>\n",
       "      <td>B00813GRG4</td>\n",
       "      <td>A1D87F6ZCVE5NK</td>\n",
       "      <td>dll pa</td>\n",
       "      <td>0</td>\n",
       "      <td>0</td>\n",
       "      <td>1</td>\n",
       "      <td>1346976000</td>\n",
       "      <td>Not as Advertised</td>\n",
       "      <td>Product arrived labeled as Jumbo Salted Peanut...</td>\n",
       "    </tr>\n",
       "    <tr>\n",
       "      <th>2</th>\n",
       "      <td>3</td>\n",
       "      <td>B000LQOCH0</td>\n",
       "      <td>ABXLMWJIXXAIN</td>\n",
       "      <td>Natalia Corres \"Natalia Corres\"</td>\n",
       "      <td>1</td>\n",
       "      <td>1</td>\n",
       "      <td>4</td>\n",
       "      <td>1219017600</td>\n",
       "      <td>\"Delight\" says it all</td>\n",
       "      <td>This is a confection that has been around a fe...</td>\n",
       "    </tr>\n",
       "    <tr>\n",
       "      <th>3</th>\n",
       "      <td>4</td>\n",
       "      <td>B000UA0QIQ</td>\n",
       "      <td>A395BORC6FGVXV</td>\n",
       "      <td>Karl</td>\n",
       "      <td>3</td>\n",
       "      <td>3</td>\n",
       "      <td>2</td>\n",
       "      <td>1307923200</td>\n",
       "      <td>Cough Medicine</td>\n",
       "      <td>If you are looking for the secret ingredient i...</td>\n",
       "    </tr>\n",
       "    <tr>\n",
       "      <th>4</th>\n",
       "      <td>5</td>\n",
       "      <td>B006K2ZZ7K</td>\n",
       "      <td>A1UQRSCLF8GW1T</td>\n",
       "      <td>Michael D. Bigham \"M. Wassir\"</td>\n",
       "      <td>0</td>\n",
       "      <td>0</td>\n",
       "      <td>5</td>\n",
       "      <td>1350777600</td>\n",
       "      <td>Great taffy</td>\n",
       "      <td>Great taffy at a great price.  There was a wid...</td>\n",
       "    </tr>\n",
       "  </tbody>\n",
       "</table>\n",
       "</div>"
      ],
      "text/plain": [
       "   Id   ProductId          UserId                      ProfileName  \\\n",
       "0   1  B001E4KFG0  A3SGXH7AUHU8GW                       delmartian   \n",
       "1   2  B00813GRG4  A1D87F6ZCVE5NK                           dll pa   \n",
       "2   3  B000LQOCH0   ABXLMWJIXXAIN  Natalia Corres \"Natalia Corres\"   \n",
       "3   4  B000UA0QIQ  A395BORC6FGVXV                             Karl   \n",
       "4   5  B006K2ZZ7K  A1UQRSCLF8GW1T    Michael D. Bigham \"M. Wassir\"   \n",
       "\n",
       "   HelpfulnessNumerator  HelpfulnessDenominator  Score        Time  \\\n",
       "0                     1                       1      5  1303862400   \n",
       "1                     0                       0      1  1346976000   \n",
       "2                     1                       1      4  1219017600   \n",
       "3                     3                       3      2  1307923200   \n",
       "4                     0                       0      5  1350777600   \n",
       "\n",
       "                 Summary                                               Text  \n",
       "0  Good Quality Dog Food  I have bought several of the Vitality canned d...  \n",
       "1      Not as Advertised  Product arrived labeled as Jumbo Salted Peanut...  \n",
       "2  \"Delight\" says it all  This is a confection that has been around a fe...  \n",
       "3         Cough Medicine  If you are looking for the secret ingredient i...  \n",
       "4            Great taffy  Great taffy at a great price.  There was a wid...  "
      ]
     },
     "execution_count": 2,
     "metadata": {},
     "output_type": "execute_result"
    }
   ],
   "source": [
    "# read data\n",
    "\n",
    "df = pd.read_csv(\"C:/Users/bonfa/Downloads/Reviews.csv/Reviews.csv\")\n",
    "df.head()"
   ]
  },
  {
   "cell_type": "code",
   "execution_count": 3,
   "metadata": {
    "execution": {
     "iopub.execute_input": "2023-04-03T11:18:26.650394Z",
     "iopub.status.busy": "2023-04-03T11:18:26.649681Z",
     "iopub.status.idle": "2023-04-03T11:18:26.715636Z",
     "shell.execute_reply": "2023-04-03T11:18:26.714256Z",
     "shell.execute_reply.started": "2023-04-03T11:18:26.650345Z"
    }
   },
   "outputs": [],
   "source": [
    "# 1 for positive review, 0 for negative review\n",
    "df.loc[df.Score > 3, 'Label_G1'] = 1\n",
    "df.loc[df.Score < 3, 'Label_G1'] = 0\n",
    "\n",
    "# 1 for positive review, 0 for negative review\n",
    "df.loc[df.Score == 5, 'Label_G2'] = 1\n",
    "df.loc[df.Score == 1, 'Label_G2'] = 0"
   ]
  },
  {
   "cell_type": "code",
   "execution_count": 4,
   "metadata": {
    "execution": {
     "iopub.execute_input": "2023-04-03T11:18:26.718495Z",
     "iopub.status.busy": "2023-04-03T11:18:26.718106Z",
     "iopub.status.idle": "2023-04-03T11:18:26.737845Z",
     "shell.execute_reply": "2023-04-03T11:18:26.736783Z",
     "shell.execute_reply.started": "2023-04-03T11:18:26.718455Z"
    }
   },
   "outputs": [
    {
     "data": {
      "text/html": [
       "<div>\n",
       "<style scoped>\n",
       "    .dataframe tbody tr th:only-of-type {\n",
       "        vertical-align: middle;\n",
       "    }\n",
       "\n",
       "    .dataframe tbody tr th {\n",
       "        vertical-align: top;\n",
       "    }\n",
       "\n",
       "    .dataframe thead th {\n",
       "        text-align: right;\n",
       "    }\n",
       "</style>\n",
       "<table border=\"1\" class=\"dataframe\">\n",
       "  <thead>\n",
       "    <tr style=\"text-align: right;\">\n",
       "      <th></th>\n",
       "      <th>Id</th>\n",
       "      <th>ProductId</th>\n",
       "      <th>UserId</th>\n",
       "      <th>ProfileName</th>\n",
       "      <th>HelpfulnessNumerator</th>\n",
       "      <th>HelpfulnessDenominator</th>\n",
       "      <th>Score</th>\n",
       "      <th>Time</th>\n",
       "      <th>Summary</th>\n",
       "      <th>Text</th>\n",
       "      <th>Label_G1</th>\n",
       "      <th>Label_G2</th>\n",
       "    </tr>\n",
       "  </thead>\n",
       "  <tbody>\n",
       "    <tr>\n",
       "      <th>0</th>\n",
       "      <td>1</td>\n",
       "      <td>B001E4KFG0</td>\n",
       "      <td>A3SGXH7AUHU8GW</td>\n",
       "      <td>delmartian</td>\n",
       "      <td>1</td>\n",
       "      <td>1</td>\n",
       "      <td>5</td>\n",
       "      <td>1303862400</td>\n",
       "      <td>Good Quality Dog Food</td>\n",
       "      <td>I have bought several of the Vitality canned d...</td>\n",
       "      <td>1.0</td>\n",
       "      <td>1.0</td>\n",
       "    </tr>\n",
       "    <tr>\n",
       "      <th>1</th>\n",
       "      <td>2</td>\n",
       "      <td>B00813GRG4</td>\n",
       "      <td>A1D87F6ZCVE5NK</td>\n",
       "      <td>dll pa</td>\n",
       "      <td>0</td>\n",
       "      <td>0</td>\n",
       "      <td>1</td>\n",
       "      <td>1346976000</td>\n",
       "      <td>Not as Advertised</td>\n",
       "      <td>Product arrived labeled as Jumbo Salted Peanut...</td>\n",
       "      <td>0.0</td>\n",
       "      <td>0.0</td>\n",
       "    </tr>\n",
       "    <tr>\n",
       "      <th>2</th>\n",
       "      <td>3</td>\n",
       "      <td>B000LQOCH0</td>\n",
       "      <td>ABXLMWJIXXAIN</td>\n",
       "      <td>Natalia Corres \"Natalia Corres\"</td>\n",
       "      <td>1</td>\n",
       "      <td>1</td>\n",
       "      <td>4</td>\n",
       "      <td>1219017600</td>\n",
       "      <td>\"Delight\" says it all</td>\n",
       "      <td>This is a confection that has been around a fe...</td>\n",
       "      <td>1.0</td>\n",
       "      <td>NaN</td>\n",
       "    </tr>\n",
       "    <tr>\n",
       "      <th>3</th>\n",
       "      <td>4</td>\n",
       "      <td>B000UA0QIQ</td>\n",
       "      <td>A395BORC6FGVXV</td>\n",
       "      <td>Karl</td>\n",
       "      <td>3</td>\n",
       "      <td>3</td>\n",
       "      <td>2</td>\n",
       "      <td>1307923200</td>\n",
       "      <td>Cough Medicine</td>\n",
       "      <td>If you are looking for the secret ingredient i...</td>\n",
       "      <td>0.0</td>\n",
       "      <td>NaN</td>\n",
       "    </tr>\n",
       "    <tr>\n",
       "      <th>4</th>\n",
       "      <td>5</td>\n",
       "      <td>B006K2ZZ7K</td>\n",
       "      <td>A1UQRSCLF8GW1T</td>\n",
       "      <td>Michael D. Bigham \"M. Wassir\"</td>\n",
       "      <td>0</td>\n",
       "      <td>0</td>\n",
       "      <td>5</td>\n",
       "      <td>1350777600</td>\n",
       "      <td>Great taffy</td>\n",
       "      <td>Great taffy at a great price.  There was a wid...</td>\n",
       "      <td>1.0</td>\n",
       "      <td>1.0</td>\n",
       "    </tr>\n",
       "  </tbody>\n",
       "</table>\n",
       "</div>"
      ],
      "text/plain": [
       "   Id   ProductId          UserId                      ProfileName  \\\n",
       "0   1  B001E4KFG0  A3SGXH7AUHU8GW                       delmartian   \n",
       "1   2  B00813GRG4  A1D87F6ZCVE5NK                           dll pa   \n",
       "2   3  B000LQOCH0   ABXLMWJIXXAIN  Natalia Corres \"Natalia Corres\"   \n",
       "3   4  B000UA0QIQ  A395BORC6FGVXV                             Karl   \n",
       "4   5  B006K2ZZ7K  A1UQRSCLF8GW1T    Michael D. Bigham \"M. Wassir\"   \n",
       "\n",
       "   HelpfulnessNumerator  HelpfulnessDenominator  Score        Time  \\\n",
       "0                     1                       1      5  1303862400   \n",
       "1                     0                       0      1  1346976000   \n",
       "2                     1                       1      4  1219017600   \n",
       "3                     3                       3      2  1307923200   \n",
       "4                     0                       0      5  1350777600   \n",
       "\n",
       "                 Summary                                               Text  \\\n",
       "0  Good Quality Dog Food  I have bought several of the Vitality canned d...   \n",
       "1      Not as Advertised  Product arrived labeled as Jumbo Salted Peanut...   \n",
       "2  \"Delight\" says it all  This is a confection that has been around a fe...   \n",
       "3         Cough Medicine  If you are looking for the secret ingredient i...   \n",
       "4            Great taffy  Great taffy at a great price.  There was a wid...   \n",
       "\n",
       "   Label_G1  Label_G2  \n",
       "0       1.0       1.0  \n",
       "1       0.0       0.0  \n",
       "2       1.0       NaN  \n",
       "3       0.0       NaN  \n",
       "4       1.0       1.0  "
      ]
     },
     "execution_count": 4,
     "metadata": {},
     "output_type": "execute_result"
    }
   ],
   "source": [
    "df.head()"
   ]
  },
  {
   "cell_type": "code",
   "execution_count": 5,
   "metadata": {
    "execution": {
     "iopub.execute_input": "2023-04-03T11:18:26.740608Z",
     "iopub.status.busy": "2023-04-03T11:18:26.739655Z",
     "iopub.status.idle": "2023-04-03T11:18:26.748297Z",
     "shell.execute_reply": "2023-04-03T11:18:26.746740Z",
     "shell.execute_reply.started": "2023-04-03T11:18:26.740566Z"
    }
   },
   "outputs": [],
   "source": [
    "# drop rows without label\n",
    "def dropnull(dataframe, subset_list):\n",
    "    \"\"\"drop the rows when values in the columns listed in subset are null and reset index\"\"\"\n",
    "    new_df = dataframe.copy().dropna(subset = subset_list)\n",
    "    new_df.reset_index(drop = True, inplace = True)\n",
    "    \n",
    "    return new_df"
   ]
  },
  {
   "cell_type": "code",
   "execution_count": 6,
   "metadata": {
    "execution": {
     "iopub.execute_input": "2023-04-03T11:18:26.750779Z",
     "iopub.status.busy": "2023-04-03T11:18:26.750320Z",
     "iopub.status.idle": "2023-04-03T11:18:27.139847Z",
     "shell.execute_reply": "2023-04-03T11:18:27.138879Z",
     "shell.execute_reply.started": "2023-04-03T11:18:26.750737Z"
    }
   },
   "outputs": [],
   "source": [
    "# drop null value in the column, 'Label'\n",
    "df_g1 = dropnull(df, ['Label_G1'])\n",
    "df_g2 = dropnull(df, ['Label_G2'])"
   ]
  },
  {
   "cell_type": "code",
   "execution_count": 7,
   "metadata": {
    "execution": {
     "iopub.execute_input": "2023-04-03T11:18:27.144957Z",
     "iopub.status.busy": "2023-04-03T11:18:27.144224Z",
     "iopub.status.idle": "2023-04-03T11:18:27.274352Z",
     "shell.execute_reply": "2023-04-03T11:18:27.273052Z",
     "shell.execute_reply.started": "2023-04-03T11:18:27.144919Z"
    }
   },
   "outputs": [],
   "source": [
    "# leave the label column applicable for data group\n",
    "df_g1.drop(columns = ['Label_G2'], inplace = True)\n",
    "df_g2.drop(columns = ['Label_G1'], inplace = True)"
   ]
  },
  {
   "cell_type": "code",
   "execution_count": 8,
   "metadata": {
    "execution": {
     "iopub.execute_input": "2023-04-03T11:18:27.276157Z",
     "iopub.status.busy": "2023-04-03T11:18:27.275790Z",
     "iopub.status.idle": "2023-04-03T11:18:27.660103Z",
     "shell.execute_reply": "2023-04-03T11:18:27.659155Z",
     "shell.execute_reply.started": "2023-04-03T11:18:27.276126Z"
    }
   },
   "outputs": [
    {
     "name": "stdout",
     "output_type": "stream",
     "text": [
      "Value Counts of  Label_G1\n"
     ]
    },
    {
     "data": {
      "image/png": "[encoded data removed]",
      "text/plain": [
       "<Figure size 432x288 with 1 Axes>"
      ]
     },
     "metadata": {
      "needs_background": "light"
     },
     "output_type": "display_data"
    },
    {
     "name": "stdout",
     "output_type": "stream",
     "text": [
      "Value Counts of  Label_G2\n"
     ]
    },
    {
     "data": {
      "image/png": "[encoded data removed]",
      "text/plain": [
       "<Figure size 432x288 with 1 Axes>"
      ]
     },
     "metadata": {
      "needs_background": "light"
     },
     "output_type": "display_data"
    }
   ],
   "source": [
    "# check the value counts of each label groups\n",
    "for i, d, c in zip([0,1], [df_g1, df_g2],['Label_G1', 'Label_G2']):\n",
    "    reviews_count = d[c].value_counts()\n",
    "    print(\"Value Counts of \", c)\n",
    "    \n",
    "    reviews_count.plot(kind = 'bar')\n",
    "    plt.show()"
   ]
  },
  {
   "cell_type": "markdown",
   "metadata": {},
   "source": [
    "Majority of reviews are positive in both dataframes and the total number of data is rougly over 400,000 each."
   ]
  },
  {
   "cell_type": "code",
   "execution_count": 9,
   "metadata": {
    "execution": {
     "iopub.execute_input": "2023-04-03T11:18:27.662211Z",
     "iopub.status.busy": "2023-04-03T11:18:27.661349Z",
     "iopub.status.idle": "2023-04-03T11:18:27.670223Z",
     "shell.execute_reply": "2023-04-03T11:18:27.668779Z",
     "shell.execute_reply.started": "2023-04-03T11:18:27.662175Z"
    }
   },
   "outputs": [],
   "source": [
    "# randomly select 10,000 reviews each for positive and negative reviews\n",
    "def sampled_df(data, label_column, sample_size):\n",
    "    unique_val = data[label_column].unique()\n",
    "    \n",
    "    np.random.seed(9)\n",
    "    def sampling(data, label_val):\n",
    "        all_index = data[data[label_column] == label_val].index\n",
    "        sample_index = np.random.choice(all_index, size = sample_size, replace = False)\n",
    "        sample_df = data.loc[sample_index]\n",
    "        sample_df.reset_index(drop = True, inplace = True)\n",
    "        \n",
    "        return sample_df\n",
    "    \n",
    "    label_df_list = []\n",
    "    for v in unique_val:\n",
    "        label_df = sampling(data, v)\n",
    "        label_df_list.append(label_df)\n",
    "        \n",
    "    reviews = pd.concat(label_df_list, ignore_index = True)\n",
    "    \n",
    "    return reviews\n"
   ]
  },
  {
   "cell_type": "code",
   "execution_count": 10,
   "metadata": {
    "execution": {
     "iopub.execute_input": "2023-04-03T11:18:27.675370Z",
     "iopub.status.busy": "2023-04-03T11:18:27.674886Z",
     "iopub.status.idle": "2023-04-03T11:18:27.973119Z",
     "shell.execute_reply": "2023-04-03T11:18:27.971902Z",
     "shell.execute_reply.started": "2023-04-03T11:18:27.675332Z"
    }
   },
   "outputs": [],
   "source": [
    "# create dataframe of sample for two label group\n",
    "sample_g1 = sampled_df(df_g1, 'Label_G1', 10000) # score > 3 positive review, score < 3 negative review\n",
    "sample_g2 = sampled_df(df_g2, 'Label_G2', 10000) # score = 5 positive review, score = 1 negative review"
   ]
  },
  {
   "cell_type": "code",
   "execution_count": 11,
   "metadata": {
    "execution": {
     "iopub.execute_input": "2023-04-03T11:18:27.975191Z",
     "iopub.status.busy": "2023-04-03T11:18:27.974603Z",
     "iopub.status.idle": "2023-04-03T11:18:27.982777Z",
     "shell.execute_reply": "2023-04-03T11:18:27.981309Z",
     "shell.execute_reply.started": "2023-04-03T11:18:27.975145Z"
    }
   },
   "outputs": [],
   "source": [
    "# make a class to tokenize a review, select only alphabetical letters, and lemmatize tokenized words.  \n",
    "class LemmaTokenizer(object):\n",
    "    def __init__(self):\n",
    "        self.wnl = WordNetLemmatizer()\n",
    "    def __call__(self, articles):\n",
    "        return [self.wnl.lemmatize(t) for t in word_tokenize(articles) if t.isalpha()]"
   ]
  },
  {
   "cell_type": "code",
   "execution_count": 12,
   "metadata": {
    "execution": {
     "iopub.execute_input": "2023-04-03T11:18:27.984852Z",
     "iopub.status.busy": "2023-04-03T11:18:27.984378Z",
     "iopub.status.idle": "2023-04-03T11:18:27.993166Z",
     "shell.execute_reply": "2023-04-03T11:18:27.992161Z",
     "shell.execute_reply.started": "2023-04-03T11:18:27.984815Z"
    }
   },
   "outputs": [],
   "source": [
    "# build the function which create a bag of words using CountVectorizer\n",
    "def create_CV(data, text_column, max_features_n, ngram, stopwords):\n",
    "    \n",
    "    vect = CountVectorizer(tokenizer = LemmaTokenizer(), max_features = max_features_n, ngram_range = ngram, stop_words = \n",
    "                           stopwords)\n",
    "\n",
    "    # fit the vectorizer\n",
    "    vect.fit(data[text_column])\n",
    "\n",
    "    # transform the review column\n",
    "    CV = vect.transform(data.Text)\n",
    "\n",
    "    return CV"
   ]
  },
  {
   "cell_type": "code",
   "execution_count": 13,
   "metadata": {
    "execution": {
     "iopub.execute_input": "2023-04-03T11:18:27.994823Z",
     "iopub.status.busy": "2023-04-03T11:18:27.994446Z",
     "iopub.status.idle": "2023-04-03T11:19:23.760058Z",
     "shell.execute_reply": "2023-04-03T11:19:23.758042Z",
     "shell.execute_reply.started": "2023-04-03T11:18:27.994789Z"
    }
   },
   "outputs": [
    {
     "name": "stderr",
     "output_type": "stream",
     "text": [
      "/opt/conda/lib/python3.7/site-packages/sklearn/feature_extraction/text.py:517: UserWarning: The parameter 'token_pattern' will not be used since 'tokenizer' is not None'\n",
      "  \"The parameter 'token_pattern' will not be used\"\n",
      "/opt/conda/lib/python3.7/site-packages/sklearn/feature_extraction/text.py:401: UserWarning: Your stop_words may be inconsistent with your preprocessing. Tokenizing the stop words generated tokens ['ha', 'le', 'u', 'wa'] not in stop_words.\n",
      "  % sorted(inconsistent)\n"
     ]
    }
   ],
   "source": [
    "# create a BOW with sample group 1\n",
    "# the number of max feature: 100 words\n",
    "CV_g1 = create_CV(sample_g1, 'Text', 100, (1,2), ENGLISH_STOP_WORDS)"
   ]
  },
  {
   "cell_type": "code",
   "execution_count": 14,
   "metadata": {
    "execution": {
     "iopub.execute_input": "2023-04-03T11:19:23.762760Z",
     "iopub.status.busy": "2023-04-03T11:19:23.762344Z",
     "iopub.status.idle": "2023-04-03T11:19:23.768495Z",
     "shell.execute_reply": "2023-04-03T11:19:23.767054Z",
     "shell.execute_reply.started": "2023-04-03T11:19:23.762723Z"
    }
   },
   "outputs": [],
   "source": [
    "# according to error message, add some more stop words\n",
    "my_stop_words = ENGLISH_STOP_WORDS.union(['ha', 'le', 'u', 'wa'])"
   ]
  },
  {
   "cell_type": "code",
   "execution_count": 15,
   "metadata": {
    "execution": {
     "iopub.execute_input": "2023-04-03T11:19:23.770619Z",
     "iopub.status.busy": "2023-04-03T11:19:23.770267Z",
     "iopub.status.idle": "2023-04-03T11:20:17.861453Z",
     "shell.execute_reply": "2023-04-03T11:20:17.859661Z",
     "shell.execute_reply.started": "2023-04-03T11:19:23.770588Z"
    }
   },
   "outputs": [],
   "source": [
    "# create again with the updated stop words\n",
    "CV_g1 = create_CV(sample_g1, 'Text', 100, (1,2), my_stop_words)"
   ]
  },
  {
   "cell_type": "code",
   "execution_count": 16,
   "metadata": {
    "execution": {
     "iopub.execute_input": "2023-04-03T11:20:17.864756Z",
     "iopub.status.busy": "2023-04-03T11:20:17.863858Z",
     "iopub.status.idle": "2023-04-03T11:20:17.871685Z",
     "shell.execute_reply": "2023-04-03T11:20:17.870083Z",
     "shell.execute_reply.started": "2023-04-03T11:20:17.864685Z"
    }
   },
   "outputs": [],
   "source": [
    "def create_tfidf(data, text_column, max_features_n, ngram, stopwords):\n",
    "# build the vectorizer, specify max_features\n",
    "    vect2 = TfidfVectorizer(tokenizer = LemmaTokenizer(), max_features = max_features_n, ngram_range = ngram, stop_words =\n",
    "                            stopwords)\n",
    "\n",
    "    # fit the vectorizer\n",
    "    vect2.fit(data[text_column])\n",
    "\n",
    "    # transform the review column\n",
    "    TF = vect2.transform(data[text_column])\n",
    "\n",
    "    return TF"
   ]
  },
  {
   "cell_type": "code",
   "execution_count": 17,
   "metadata": {
    "execution": {
     "iopub.execute_input": "2023-04-03T11:20:17.874483Z",
     "iopub.status.busy": "2023-04-03T11:20:17.873910Z",
     "iopub.status.idle": "2023-04-03T11:21:12.080885Z",
     "shell.execute_reply": "2023-04-03T11:21:12.079540Z",
     "shell.execute_reply.started": "2023-04-03T11:20:17.874434Z"
    }
   },
   "outputs": [],
   "source": [
    "# create a tfidf with sample group 1\n",
    "# the number of max feature: 100 words\n",
    "TF_g1 = create_tfidf(sample_g1, 'Text', 100, (1,2), my_stop_words)"
   ]
  },
  {
   "cell_type": "code",
   "execution_count": 18,
   "metadata": {
    "execution": {
     "iopub.execute_input": "2023-04-03T11:21:12.083353Z",
     "iopub.status.busy": "2023-04-03T11:21:12.082794Z",
     "iopub.status.idle": "2023-04-03T11:21:12.092247Z",
     "shell.execute_reply": "2023-04-03T11:21:12.091309Z",
     "shell.execute_reply.started": "2023-04-03T11:21:12.083300Z"
    }
   },
   "outputs": [],
   "source": [
    "# create a function, modeling to train and test model and obtain accuracy score.\n",
    "def modeling(X, y, testsize, c_n):\n",
    "    \n",
    "    # Perform the train-test split\n",
    "    X_train, X_test, y_train, y_test = train_test_split(X, y, test_size = testsize, random_state = 9, stratify = y)\n",
    "\n",
    "    # train logistic regression model\n",
    "    log_reg = LogisticRegression(C = c_n).fit(X_train, y_train)\n",
    "\n",
    "    # make prediction on the test set\n",
    "    y_predicted = log_reg.predict(X_test)\n",
    "\n",
    "    # save the performance metrics\n",
    "    AccuracyScore = accuracy_score(y_test, y_predicted)\n",
    "    ConfusionMatrix = confusion_matrix(y_test, y_predicted)/len(y_test)\n",
    "    return log_reg, AccuracyScore, ConfusionMatrix"
   ]
  },
  {
   "cell_type": "code",
   "execution_count": 19,
   "metadata": {
    "execution": {
     "iopub.execute_input": "2023-04-03T11:21:12.094882Z",
     "iopub.status.busy": "2023-04-03T11:21:12.094027Z",
     "iopub.status.idle": "2023-04-03T11:21:12.106234Z",
     "shell.execute_reply": "2023-04-03T11:21:12.104806Z",
     "shell.execute_reply.started": "2023-04-03T11:21:12.094831Z"
    }
   },
   "outputs": [],
   "source": [
    "# save sample 1's label values in variable y1\n",
    "y1 = sample_g1.Label_G1"
   ]
  },
  {
   "cell_type": "code",
   "execution_count": 20,
   "metadata": {
    "execution": {
     "iopub.execute_input": "2023-04-03T11:21:12.108397Z",
     "iopub.status.busy": "2023-04-03T11:21:12.108002Z",
     "iopub.status.idle": "2023-04-03T11:21:12.327438Z",
     "shell.execute_reply": "2023-04-03T11:21:12.326121Z",
     "shell.execute_reply.started": "2023-04-03T11:21:12.108362Z"
    }
   },
   "outputs": [
    {
     "name": "stdout",
     "output_type": "stream",
     "text": [
      "Model Accuracy Score (CountVectorizer):  0.7421666666666666 \n",
      "\n",
      "Model Accuracy Score (Tfidf):  0.7398333333333333\n"
     ]
    }
   ],
   "source": [
    "# save the result\n",
    "CV_model, CV_acc, CV_conf = modeling(CV_g1, y1, 0.3, 1)\n",
    "TF_model, TF_acc, TF_conf = modeling(TF_g1, y1, 0.3, 1)\n",
    "\n",
    "# compare the accuracy\n",
    "print(\"Model Accuracy Score (CountVectorizer): \", CV_acc, '\\n')\n",
    "print(\"Model Accuracy Score (Tfidf): \", TF_acc)"
   ]
  },
  {
   "cell_type": "markdown",
   "metadata": {},
   "source": [
    "The classier trained with the matrix from CountVectorizer performs slightly better with higher accuracy score. Moreover, Tfidf consumes more memory and time than CounterVectorizer does. Therefore, I will select a matrix of CountVectorizer for the modeling. "
   ]
  },
  {
   "cell_type": "code",
   "execution_count": 23,
   "metadata": {
    "execution": {
     "iopub.execute_input": "2023-04-03T11:26:13.781953Z",
     "iopub.status.busy": "2023-04-03T11:26:13.781454Z",
     "iopub.status.idle": "2023-04-03T11:26:13.788307Z",
     "shell.execute_reply": "2023-04-03T11:26:13.787035Z",
     "shell.execute_reply.started": "2023-04-03T11:26:13.781912Z"
    }
   },
   "outputs": [],
   "source": [
    "# find the best accuracy score by max_feature numbers\n",
    "max_features_list = np.linspace(100, 1000, 10, dtype = int)"
   ]
  },
  {
   "cell_type": "code",
   "execution_count": 24,
   "metadata": {
    "execution": {
     "iopub.execute_input": "2023-04-03T11:28:26.839189Z",
     "iopub.status.busy": "2023-04-03T11:28:26.838419Z",
     "iopub.status.idle": "2023-04-03T11:37:27.109028Z",
     "shell.execute_reply": "2023-04-03T11:37:27.107869Z",
     "shell.execute_reply.started": "2023-04-03T11:28:26.839136Z"
    }
   },
   "outputs": [
    {
     "name": "stderr",
     "output_type": "stream",
     "text": [
      "/opt/conda/lib/python3.7/site-packages/sklearn/feature_extraction/text.py:517: UserWarning: The parameter 'token_pattern' will not be used since 'tokenizer' is not None'\n",
      "  \"The parameter 'token_pattern' will not be used\"\n",
      "/opt/conda/lib/python3.7/site-packages/sklearn/feature_extraction/text.py:517: UserWarning: The parameter 'token_pattern' will not be used since 'tokenizer' is not None'\n",
      "  \"The parameter 'token_pattern' will not be used\"\n",
      "/opt/conda/lib/python3.7/site-packages/sklearn/feature_extraction/text.py:517: UserWarning: The parameter 'token_pattern' will not be used since 'tokenizer' is not None'\n",
      "  \"The parameter 'token_pattern' will not be used\"\n",
      "/opt/conda/lib/python3.7/site-packages/sklearn/linear_model/_logistic.py:818: ConvergenceWarning: lbfgs failed to converge (status=1):\n",
      "STOP: TOTAL NO. of ITERATIONS REACHED LIMIT.\n",
      "\n",
      "Increase the number of iterations (max_iter) or scale the data as shown in:\n",
      "    https://scikit-learn.org/stable/modules/preprocessing.html\n",
      "Please also refer to the documentation for alternative solver options:\n",
      "    https://scikit-learn.org/stable/modules/linear_model.html#logistic-regression\n",
      "  extra_warning_msg=_LOGISTIC_SOLVER_CONVERGENCE_MSG,\n",
      "/opt/conda/lib/python3.7/site-packages/sklearn/feature_extraction/text.py:517: UserWarning: The parameter 'token_pattern' will not be used since 'tokenizer' is not None'\n",
      "  \"The parameter 'token_pattern' will not be used\"\n",
      "/opt/conda/lib/python3.7/site-packages/sklearn/linear_model/_logistic.py:818: ConvergenceWarning: lbfgs failed to converge (status=1):\n",
      "STOP: TOTAL NO. of ITERATIONS REACHED LIMIT.\n",
      "\n",
      "Increase the number of iterations (max_iter) or scale the data as shown in:\n",
      "    https://scikit-learn.org/stable/modules/preprocessing.html\n",
      "Please also refer to the documentation for alternative solver options:\n",
      "    https://scikit-learn.org/stable/modules/linear_model.html#logistic-regression\n",
      "  extra_warning_msg=_LOGISTIC_SOLVER_CONVERGENCE_MSG,\n",
      "/opt/conda/lib/python3.7/site-packages/sklearn/feature_extraction/text.py:517: UserWarning: The parameter 'token_pattern' will not be used since 'tokenizer' is not None'\n",
      "  \"The parameter 'token_pattern' will not be used\"\n",
      "/opt/conda/lib/python3.7/site-packages/sklearn/linear_model/_logistic.py:818: ConvergenceWarning: lbfgs failed to converge (status=1):\n",
      "STOP: TOTAL NO. of ITERATIONS REACHED LIMIT.\n",
      "\n",
      "Increase the number of iterations (max_iter) or scale the data as shown in:\n",
      "    https://scikit-learn.org/stable/modules/preprocessing.html\n",
      "Please also refer to the documentation for alternative solver options:\n",
      "    https://scikit-learn.org/stable/modules/linear_model.html#logistic-regression\n",
      "  extra_warning_msg=_LOGISTIC_SOLVER_CONVERGENCE_MSG,\n",
      "/opt/conda/lib/python3.7/site-packages/sklearn/feature_extraction/text.py:517: UserWarning: The parameter 'token_pattern' will not be used since 'tokenizer' is not None'\n",
      "  \"The parameter 'token_pattern' will not be used\"\n",
      "/opt/conda/lib/python3.7/site-packages/sklearn/linear_model/_logistic.py:818: ConvergenceWarning: lbfgs failed to converge (status=1):\n",
      "STOP: TOTAL NO. of ITERATIONS REACHED LIMIT.\n",
      "\n",
      "Increase the number of iterations (max_iter) or scale the data as shown in:\n",
      "    https://scikit-learn.org/stable/modules/preprocessing.html\n",
      "Please also refer to the documentation for alternative solver options:\n",
      "    https://scikit-learn.org/stable/modules/linear_model.html#logistic-regression\n",
      "  extra_warning_msg=_LOGISTIC_SOLVER_CONVERGENCE_MSG,\n",
      "/opt/conda/lib/python3.7/site-packages/sklearn/feature_extraction/text.py:517: UserWarning: The parameter 'token_pattern' will not be used since 'tokenizer' is not None'\n",
      "  \"The parameter 'token_pattern' will not be used\"\n",
      "/opt/conda/lib/python3.7/site-packages/sklearn/linear_model/_logistic.py:818: ConvergenceWarning: lbfgs failed to converge (status=1):\n",
      "STOP: TOTAL NO. of ITERATIONS REACHED LIMIT.\n",
      "\n",
      "Increase the number of iterations (max_iter) or scale the data as shown in:\n",
      "    https://scikit-learn.org/stable/modules/preprocessing.html\n",
      "Please also refer to the documentation for alternative solver options:\n",
      "    https://scikit-learn.org/stable/modules/linear_model.html#logistic-regression\n",
      "  extra_warning_msg=_LOGISTIC_SOLVER_CONVERGENCE_MSG,\n",
      "/opt/conda/lib/python3.7/site-packages/sklearn/feature_extraction/text.py:517: UserWarning: The parameter 'token_pattern' will not be used since 'tokenizer' is not None'\n",
      "  \"The parameter 'token_pattern' will not be used\"\n",
      "/opt/conda/lib/python3.7/site-packages/sklearn/linear_model/_logistic.py:818: ConvergenceWarning: lbfgs failed to converge (status=1):\n",
      "STOP: TOTAL NO. of ITERATIONS REACHED LIMIT.\n",
      "\n",
      "Increase the number of iterations (max_iter) or scale the data as shown in:\n",
      "    https://scikit-learn.org/stable/modules/preprocessing.html\n",
      "Please also refer to the documentation for alternative solver options:\n",
      "    https://scikit-learn.org/stable/modules/linear_model.html#logistic-regression\n",
      "  extra_warning_msg=_LOGISTIC_SOLVER_CONVERGENCE_MSG,\n",
      "/opt/conda/lib/python3.7/site-packages/sklearn/feature_extraction/text.py:517: UserWarning: The parameter 'token_pattern' will not be used since 'tokenizer' is not None'\n",
      "  \"The parameter 'token_pattern' will not be used\"\n",
      "/opt/conda/lib/python3.7/site-packages/sklearn/linear_model/_logistic.py:818: ConvergenceWarning: lbfgs failed to converge (status=1):\n",
      "STOP: TOTAL NO. of ITERATIONS REACHED LIMIT.\n",
      "\n",
      "Increase the number of iterations (max_iter) or scale the data as shown in:\n",
      "    https://scikit-learn.org/stable/modules/preprocessing.html\n",
      "Please also refer to the documentation for alternative solver options:\n",
      "    https://scikit-learn.org/stable/modules/linear_model.html#logistic-regression\n",
      "  extra_warning_msg=_LOGISTIC_SOLVER_CONVERGENCE_MSG,\n",
      "/opt/conda/lib/python3.7/site-packages/sklearn/feature_extraction/text.py:517: UserWarning: The parameter 'token_pattern' will not be used since 'tokenizer' is not None'\n",
      "  \"The parameter 'token_pattern' will not be used\"\n",
      "/opt/conda/lib/python3.7/site-packages/sklearn/linear_model/_logistic.py:818: ConvergenceWarning: lbfgs failed to converge (status=1):\n",
      "STOP: TOTAL NO. of ITERATIONS REACHED LIMIT.\n",
      "\n",
      "Increase the number of iterations (max_iter) or scale the data as shown in:\n",
      "    https://scikit-learn.org/stable/modules/preprocessing.html\n",
      "Please also refer to the documentation for alternative solver options:\n",
      "    https://scikit-learn.org/stable/modules/linear_model.html#logistic-regression\n",
      "  extra_warning_msg=_LOGISTIC_SOLVER_CONVERGENCE_MSG,\n"
     ]
    }
   ],
   "source": [
    "# iterate max_features_list and build the model \n",
    "model_list = []\n",
    "for max_f in max_features_list:\n",
    "    CV = create_CV(sample_g1, 'Text', max_f, (1,2), my_stop_words)\n",
    "    model, accuracy, confusion = modeling(CV, y1, testsize = 0.3, c_n = 1)\n",
    "    model_list.append(accuracy)"
   ]
  },
  {
   "cell_type": "code",
   "execution_count": 27,
   "metadata": {
    "execution": {
     "iopub.execute_input": "2023-04-03T11:41:51.234020Z",
     "iopub.status.busy": "2023-04-03T11:41:51.233575Z",
     "iopub.status.idle": "2023-04-03T11:41:51.242556Z",
     "shell.execute_reply": "2023-04-03T11:41:51.241134Z",
     "shell.execute_reply.started": "2023-04-03T11:41:51.233985Z"
    }
   },
   "outputs": [
    {
     "data": {
      "text/plain": [
       "['g1_max_f_result.sav']"
      ]
     },
     "execution_count": 27,
     "metadata": {},
     "output_type": "execute_result"
    }
   ],
   "source": [
    "import joblib\n",
    "\n",
    "filename = 'g1_max_f_result.sav'\n",
    "joblib.dump(model_list, filename)\n"
   ]
  },
  {
   "cell_type": "code",
   "execution_count": 28,
   "metadata": {
    "execution": {
     "iopub.execute_input": "2023-04-03T11:42:49.135520Z",
     "iopub.status.busy": "2023-04-03T11:42:49.134469Z",
     "iopub.status.idle": "2023-04-03T11:42:49.263874Z",
     "shell.execute_reply": "2023-04-03T11:42:49.262755Z",
     "shell.execute_reply.started": "2023-04-03T11:42:49.135471Z"
    }
   },
   "outputs": [
    {
     "data": {
      "image/png": "[encoded data removed]",
      "text/plain": [
       "<Figure size 432x288 with 1 Axes>"
      ]
     },
     "metadata": {
      "needs_background": "light"
     },
     "output_type": "display_data"
    }
   ],
   "source": [
    "\n",
    "\n",
    "import matplotlib.pyplot as plt\n",
    "\n",
    "# set the data\n",
    "model_names = ['CountVectorizer', 'TfidfVectorizer']\n",
    "accuracies = [CV_acc, TF_acc]\n",
    "\n",
    "# create the bar chart\n",
    "plt.bar(model_names, accuracies)\n",
    "\n",
    "# set the labels and title\n",
    "plt.xlabel('Model')\n",
    "plt.ylabel('Accuracy')\n",
    "plt.title('Comparison of Model Accuracies')\n",
    "\n",
    "# display the chart\n",
    "plt.show()\n"
   ]
  },
  {
   "cell_type": "markdown",
   "metadata": {},
   "source": [
    "The plot shows the accuracy from max features, 600 begins to stay constant. As the number over 600 doesn't contribute to significant accuracy improvement, I will consider 600 as an optimum number for max features. "
   ]
  },
  {
   "cell_type": "code",
   "execution_count": 50,
   "metadata": {
    "execution": {
     "iopub.execute_input": "2023-04-03T12:14:06.096163Z",
     "iopub.status.busy": "2023-04-03T12:14:06.095745Z",
     "iopub.status.idle": "2023-04-03T12:14:06.100970Z",
     "shell.execute_reply": "2023-04-03T12:14:06.100010Z",
     "shell.execute_reply.started": "2023-04-03T12:14:06.096130Z"
    }
   },
   "outputs": [],
   "source": [
    "# save sample 2's label values in variable y2\n",
    "y2 = sample_g2.Label_G2"
   ]
  },
  {
   "cell_type": "code",
   "execution_count": 60,
   "metadata": {
    "execution": {
     "iopub.execute_input": "2023-04-03T12:33:11.501693Z",
     "iopub.status.busy": "2023-04-03T12:33:11.500282Z",
     "iopub.status.idle": "2023-04-03T12:33:11.509666Z",
     "shell.execute_reply": "2023-04-03T12:33:11.508308Z",
     "shell.execute_reply.started": "2023-04-03T12:33:11.501645Z"
    }
   },
   "outputs": [
    {
     "data": {
      "text/plain": [
       "[0.7421666666666666,\n",
       " 0.7858333333333334,\n",
       " 0.8053333333333333,\n",
       " 0.8161666666666667,\n",
       " 0.8271666666666667,\n",
       " 0.8385,\n",
       " 0.8415,\n",
       " 0.8466666666666667,\n",
       " 0.8471666666666666,\n",
       " 0.8465]"
      ]
     },
     "execution_count": 60,
     "metadata": {},
     "output_type": "execute_result"
    }
   ],
   "source": [
    "model_list"
   ]
  },
  {
   "cell_type": "code",
   "execution_count": 62,
   "metadata": {
    "execution": {
     "iopub.execute_input": "2023-04-03T12:34:37.514119Z",
     "iopub.status.busy": "2023-04-03T12:34:37.513631Z",
     "iopub.status.idle": "2023-04-03T12:34:37.520949Z",
     "shell.execute_reply": "2023-04-03T12:34:37.519688Z",
     "shell.execute_reply.started": "2023-04-03T12:34:37.514079Z"
    }
   },
   "outputs": [
    {
     "name": "stdout",
     "output_type": "stream",
     "text": [
      "Accuracy of model trained with max feature 1000: 0.8465\n",
      "Accuracy of model trained on sample group 2: 0.8701666666666666\n"
     ]
    }
   ],
   "source": [
    "print(\"Accuracy of model trained with max feature 1000:\", model_list[-1])\n",
    "print(\"Accuracy of model trained on sample group 2:\", accuracy)"
   ]
  }
 ],
 "metadata": {
  "kernelspec": {
   "display_name": "Python 3 (ipykernel)",
   "language": "python",
   "name": "python3"
  },
  "language_info": {
   "codemirror_mode": {
    "name": "ipython",
    "version": 3
   },
   "file_extension": ".py",
   "mimetype": "text/x-python",
   "name": "python",
   "nbconvert_exporter": "python",
   "pygments_lexer": "ipython3",
   "version": "3.9.12"
  }
 },
 "nbformat": 4,
 "nbformat_minor": 4
}
